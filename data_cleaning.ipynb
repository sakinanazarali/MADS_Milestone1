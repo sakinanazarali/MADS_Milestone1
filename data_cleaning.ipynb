{
 "cells": [
  {
   "cell_type": "markdown",
   "id": "99662d85-a14f-4614-9dfa-41bbf1780958",
   "metadata": {},
   "source": [
    "## Reading Data"
   ]
  },
  {
   "cell_type": "markdown",
   "id": "867c8ae2-e90f-4b94-ac9c-cea4a3b8593f",
   "metadata": {},
   "source": [
    "Relevant imports go here:"
   ]
  },
  {
   "cell_type": "code",
   "execution_count": 11,
   "id": "2e071a22-4b3b-489a-949a-b383d0e9ba71",
   "metadata": {},
   "outputs": [],
   "source": [
    "import pandas as pd\n",
    "import numpy as np\n",
    "from IPython.display import display"
   ]
  },
  {
   "cell_type": "markdown",
   "id": "9e5c93c9-6057-4711-bd95-ed76a7fbf222",
   "metadata": {},
   "source": [
    "Read in the different csv files"
   ]
  },
  {
   "cell_type": "code",
   "execution_count": 2,
   "id": "c82146eb-dd71-43ae-ae4b-c5bde551f531",
   "metadata": {},
   "outputs": [],
   "source": [
    "import pandas as pd\n",
    "\n",
    "routes_df = pd.read_csv('data_output/routes.csv')\n",
    "countries_df = pd.read_csv('data_output/countries.csv')\n",
    "planes_df = pd.read_csv('data_output/planes.csv')\n",
    "airports_df = pd.read_csv('data_output/airports.csv', on_bad_lines='skip')\n",
    "airlines_df = pd.read_csv('data_output/airlines.csv', on_bad_lines='skip')"
   ]
  },
  {
   "cell_type": "markdown",
   "id": "7ee54522-5620-46c5-9a09-e681b9cd2ebd",
   "metadata": {},
   "source": [
    "Inspect briefly the dataframes"
   ]
  },
  {
   "cell_type": "code",
   "execution_count": 3,
   "id": "1f87c2c4-0968-4a50-914e-1883a632a8a4",
   "metadata": {},
   "outputs": [],
   "source": [
    "# display(routes_df.head())\n",
    "# display(planes_df.head())\n",
    "# display(countries_df.head())\n",
    "# display(airports_df.head())\n",
    "# display(airlines_df.head())"
   ]
  },
  {
   "cell_type": "markdown",
   "id": "8ab648bd-3086-441b-80d1-ef81cdfb1c2b",
   "metadata": {},
   "source": [
    "## Data Cleaning "
   ]
  },
  {
   "cell_type": "markdown",
   "id": "5fc5431f-99b7-4e1e-8c0b-dffa49f64d13",
   "metadata": {},
   "source": [
    "### Cleaning for All Dataframes"
   ]
  },
  {
   "cell_type": "markdown",
   "id": "a5939d0c-bd7b-4891-9329-f35a9edd1a64",
   "metadata": {},
   "source": [
    "Upon inspecting the dataframes, we find a few fixes that need to be made before proceeding into the data analysis stage. These issues + their relevant fixes will be highlighted in this section."
   ]
  },
  {
   "cell_type": "markdown",
   "id": "967411ab-72a3-4781-9a44-075a39b9d2c5",
   "metadata": {},
   "source": [
    "All the dataframes have their values in the cells within the quotation marks. Here, we will get rid of the quotation marks using the replace function with regular expressions. So, for instance, the name of an airplane will go from **\"Aerospatiale (Nord) 262\"** to **Aerospatiale (Nord) 262**"
   ]
  },
  {
   "cell_type": "code",
   "execution_count": 4,
   "id": "3dd70db0-6899-4148-9004-b936c09c6bd1",
   "metadata": {},
   "outputs": [],
   "source": [
    "routes_df = routes_df.replace('\"', '', regex=True)\n",
    "planes_df = planes_df.replace('\"', '', regex=True)\n",
    "countries_df = countries_df.replace('\"', '', regex=True)\n",
    "airports_df = airports_df.replace('\"', '', regex=True)\n",
    "airlines_df = airlines_df.replace('\"', '', regex=True)"
   ]
  },
  {
   "cell_type": "markdown",
   "id": "b3df79c4-6aeb-49fd-b263-12bab1d94069",
   "metadata": {},
   "source": [
    "### Cleaning for routes_df"
   ]
  },
  {
   "cell_type": "markdown",
   "id": "ba6d61fe-0392-4d29-be30-29deea2cf7ba",
   "metadata": {},
   "source": [
    "We start by performing a general inspection of the routes_df dataframe."
   ]
  },
  {
   "cell_type": "code",
   "execution_count": 138,
   "id": "085c74f9-7a8b-45e8-85d3-1e0172a08918",
   "metadata": {},
   "outputs": [
    {
     "data": {
      "text/html": [
       "<div>\n",
       "<style scoped>\n",
       "    .dataframe tbody tr th:only-of-type {\n",
       "        vertical-align: middle;\n",
       "    }\n",
       "\n",
       "    .dataframe tbody tr th {\n",
       "        vertical-align: top;\n",
       "    }\n",
       "\n",
       "    .dataframe thead th {\n",
       "        text-align: right;\n",
       "    }\n",
       "</style>\n",
       "<table border=\"1\" class=\"dataframe\">\n",
       "  <thead>\n",
       "    <tr style=\"text-align: right;\">\n",
       "      <th></th>\n",
       "      <th>Airline</th>\n",
       "      <th>Airline ID</th>\n",
       "      <th>Source Airport</th>\n",
       "      <th>Source Airport ID</th>\n",
       "      <th>Destination Airport</th>\n",
       "      <th>Destination Airport ID</th>\n",
       "      <th>Codeshare</th>\n",
       "      <th>Stops</th>\n",
       "      <th>Equipment</th>\n",
       "    </tr>\n",
       "  </thead>\n",
       "  <tbody>\n",
       "    <tr>\n",
       "      <th>count</th>\n",
       "      <td>67663</td>\n",
       "      <td>67663</td>\n",
       "      <td>67663</td>\n",
       "      <td>67663</td>\n",
       "      <td>67663</td>\n",
       "      <td>67663</td>\n",
       "      <td>14597</td>\n",
       "      <td>67663.000000</td>\n",
       "      <td>67645</td>\n",
       "    </tr>\n",
       "    <tr>\n",
       "      <th>unique</th>\n",
       "      <td>568</td>\n",
       "      <td>548</td>\n",
       "      <td>3409</td>\n",
       "      <td>3321</td>\n",
       "      <td>3418</td>\n",
       "      <td>3327</td>\n",
       "      <td>1</td>\n",
       "      <td>NaN</td>\n",
       "      <td>3925</td>\n",
       "    </tr>\n",
       "    <tr>\n",
       "      <th>top</th>\n",
       "      <td>FR</td>\n",
       "      <td>4296</td>\n",
       "      <td>ATL</td>\n",
       "      <td>3682</td>\n",
       "      <td>ATL</td>\n",
       "      <td>3682</td>\n",
       "      <td>Y</td>\n",
       "      <td>NaN</td>\n",
       "      <td>320</td>\n",
       "    </tr>\n",
       "    <tr>\n",
       "      <th>freq</th>\n",
       "      <td>2484</td>\n",
       "      <td>2484</td>\n",
       "      <td>915</td>\n",
       "      <td>915</td>\n",
       "      <td>911</td>\n",
       "      <td>911</td>\n",
       "      <td>14597</td>\n",
       "      <td>NaN</td>\n",
       "      <td>9180</td>\n",
       "    </tr>\n",
       "    <tr>\n",
       "      <th>mean</th>\n",
       "      <td>NaN</td>\n",
       "      <td>NaN</td>\n",
       "      <td>NaN</td>\n",
       "      <td>NaN</td>\n",
       "      <td>NaN</td>\n",
       "      <td>NaN</td>\n",
       "      <td>NaN</td>\n",
       "      <td>0.000163</td>\n",
       "      <td>NaN</td>\n",
       "    </tr>\n",
       "    <tr>\n",
       "      <th>std</th>\n",
       "      <td>NaN</td>\n",
       "      <td>NaN</td>\n",
       "      <td>NaN</td>\n",
       "      <td>NaN</td>\n",
       "      <td>NaN</td>\n",
       "      <td>NaN</td>\n",
       "      <td>NaN</td>\n",
       "      <td>0.012749</td>\n",
       "      <td>NaN</td>\n",
       "    </tr>\n",
       "    <tr>\n",
       "      <th>min</th>\n",
       "      <td>NaN</td>\n",
       "      <td>NaN</td>\n",
       "      <td>NaN</td>\n",
       "      <td>NaN</td>\n",
       "      <td>NaN</td>\n",
       "      <td>NaN</td>\n",
       "      <td>NaN</td>\n",
       "      <td>0.000000</td>\n",
       "      <td>NaN</td>\n",
       "    </tr>\n",
       "    <tr>\n",
       "      <th>25%</th>\n",
       "      <td>NaN</td>\n",
       "      <td>NaN</td>\n",
       "      <td>NaN</td>\n",
       "      <td>NaN</td>\n",
       "      <td>NaN</td>\n",
       "      <td>NaN</td>\n",
       "      <td>NaN</td>\n",
       "      <td>0.000000</td>\n",
       "      <td>NaN</td>\n",
       "    </tr>\n",
       "    <tr>\n",
       "      <th>50%</th>\n",
       "      <td>NaN</td>\n",
       "      <td>NaN</td>\n",
       "      <td>NaN</td>\n",
       "      <td>NaN</td>\n",
       "      <td>NaN</td>\n",
       "      <td>NaN</td>\n",
       "      <td>NaN</td>\n",
       "      <td>0.000000</td>\n",
       "      <td>NaN</td>\n",
       "    </tr>\n",
       "    <tr>\n",
       "      <th>75%</th>\n",
       "      <td>NaN</td>\n",
       "      <td>NaN</td>\n",
       "      <td>NaN</td>\n",
       "      <td>NaN</td>\n",
       "      <td>NaN</td>\n",
       "      <td>NaN</td>\n",
       "      <td>NaN</td>\n",
       "      <td>0.000000</td>\n",
       "      <td>NaN</td>\n",
       "    </tr>\n",
       "    <tr>\n",
       "      <th>max</th>\n",
       "      <td>NaN</td>\n",
       "      <td>NaN</td>\n",
       "      <td>NaN</td>\n",
       "      <td>NaN</td>\n",
       "      <td>NaN</td>\n",
       "      <td>NaN</td>\n",
       "      <td>NaN</td>\n",
       "      <td>1.000000</td>\n",
       "      <td>NaN</td>\n",
       "    </tr>\n",
       "  </tbody>\n",
       "</table>\n",
       "</div>"
      ],
      "text/plain": [
       "       Airline Airline ID Source Airport Source Airport ID  \\\n",
       "count    67663      67663          67663             67663   \n",
       "unique     568        548           3409              3321   \n",
       "top         FR       4296            ATL              3682   \n",
       "freq      2484       2484            915               915   \n",
       "mean       NaN        NaN            NaN               NaN   \n",
       "std        NaN        NaN            NaN               NaN   \n",
       "min        NaN        NaN            NaN               NaN   \n",
       "25%        NaN        NaN            NaN               NaN   \n",
       "50%        NaN        NaN            NaN               NaN   \n",
       "75%        NaN        NaN            NaN               NaN   \n",
       "max        NaN        NaN            NaN               NaN   \n",
       "\n",
       "       Destination Airport Destination Airport ID Codeshare         Stops  \\\n",
       "count                67663                  67663     14597  67663.000000   \n",
       "unique                3418                   3327         1           NaN   \n",
       "top                    ATL                   3682         Y           NaN   \n",
       "freq                   911                    911     14597           NaN   \n",
       "mean                   NaN                    NaN       NaN      0.000163   \n",
       "std                    NaN                    NaN       NaN      0.012749   \n",
       "min                    NaN                    NaN       NaN      0.000000   \n",
       "25%                    NaN                    NaN       NaN      0.000000   \n",
       "50%                    NaN                    NaN       NaN      0.000000   \n",
       "75%                    NaN                    NaN       NaN      0.000000   \n",
       "max                    NaN                    NaN       NaN      1.000000   \n",
       "\n",
       "       Equipment  \n",
       "count      67645  \n",
       "unique      3925  \n",
       "top          320  \n",
       "freq        9180  \n",
       "mean         NaN  \n",
       "std          NaN  \n",
       "min          NaN  \n",
       "25%          NaN  \n",
       "50%          NaN  \n",
       "75%          NaN  \n",
       "max          NaN  "
      ]
     },
     "metadata": {},
     "output_type": "display_data"
    },
    {
     "name": "stdout",
     "output_type": "stream",
     "text": [
      "<class 'pandas.core.frame.DataFrame'>\n",
      "RangeIndex: 67663 entries, 0 to 67662\n",
      "Data columns (total 9 columns):\n",
      " #   Column                  Non-Null Count  Dtype \n",
      "---  ------                  --------------  ----- \n",
      " 0   Airline                 67663 non-null  object\n",
      " 1   Airline ID              67663 non-null  object\n",
      " 2   Source Airport          67663 non-null  object\n",
      " 3   Source Airport ID       67663 non-null  object\n",
      " 4   Destination Airport     67663 non-null  object\n",
      " 5   Destination Airport ID  67663 non-null  object\n",
      " 6   Codeshare               14597 non-null  object\n",
      " 7   Stops                   67663 non-null  int64 \n",
      " 8   Equipment               67645 non-null  object\n",
      "dtypes: int64(1), object(8)\n",
      "memory usage: 4.6+ MB\n"
     ]
    },
    {
     "data": {
      "text/plain": [
       "None"
      ]
     },
     "metadata": {},
     "output_type": "display_data"
    }
   ],
   "source": [
    "display(routes_df.describe(include='all'))\n",
    "display(routes_df.info())"
   ]
  },
  {
   "cell_type": "markdown",
   "id": "4126b540-03d2-4488-85ff-066470975ed3",
   "metadata": {},
   "source": [
    "Of the first items of interest, we find that the codeshare column is mainly a column that is filled with 'NaN' values. Further inspection upon the usefulness of the column indicates low relevance for the purpose of this analysis. The codeshare column will appear as \"Y\" if the particular flight is not operated by the airline but by another carrier. Therefore, we will first drop this column. "
   ]
  },
  {
   "cell_type": "code",
   "execution_count": 139,
   "id": "3d7fcaad-a7a9-410e-9b7c-caf4e623d3e7",
   "metadata": {},
   "outputs": [],
   "source": [
    "routes_df.drop(columns=['Codeshare'], inplace=True)"
   ]
  },
  {
   "cell_type": "markdown",
   "id": "dbe003fd-1d3e-4458-a824-9ea801ec3506",
   "metadata": {},
   "source": [
    "Next, we note that there are some rows in the equipment column that have null objects. Because the equipment column (which shows what types of aircrafts are mainly used for the routes) is an important one, we will omit all the rows that have null equipment values."
   ]
  },
  {
   "cell_type": "code",
   "execution_count": 140,
   "id": "d84765d0-a7c5-4ca5-b055-b7c30c18f704",
   "metadata": {},
   "outputs": [],
   "source": [
    "routes_df = routes_df.dropna(subset=['Equipment'])"
   ]
  },
  {
   "cell_type": "markdown",
   "id": "f07dad74-cb33-4e5a-a78d-078e94425945",
   "metadata": {},
   "source": [
    "Continuing the work on the 'equipment' column, we find that in some cases, the column has multiple equipment all listed in the same cell. For instance, take rows 64049 to 64055 as shown below."
   ]
  },
  {
   "cell_type": "code",
   "execution_count": 141,
   "id": "e64b0123-f9d1-4ea9-b4f8-a4f29c8ff61d",
   "metadata": {},
   "outputs": [
    {
     "data": {
      "text/html": [
       "<div>\n",
       "<style scoped>\n",
       "    .dataframe tbody tr th:only-of-type {\n",
       "        vertical-align: middle;\n",
       "    }\n",
       "\n",
       "    .dataframe tbody tr th {\n",
       "        vertical-align: top;\n",
       "    }\n",
       "\n",
       "    .dataframe thead th {\n",
       "        text-align: right;\n",
       "    }\n",
       "</style>\n",
       "<table border=\"1\" class=\"dataframe\">\n",
       "  <thead>\n",
       "    <tr style=\"text-align: right;\">\n",
       "      <th></th>\n",
       "      <th>Airline</th>\n",
       "      <th>Airline ID</th>\n",
       "      <th>Source Airport</th>\n",
       "      <th>Source Airport ID</th>\n",
       "      <th>Destination Airport</th>\n",
       "      <th>Destination Airport ID</th>\n",
       "      <th>Stops</th>\n",
       "      <th>Equipment</th>\n",
       "    </tr>\n",
       "  </thead>\n",
       "  <tbody>\n",
       "    <tr>\n",
       "      <th>64067</th>\n",
       "      <td>WN</td>\n",
       "      <td>4547</td>\n",
       "      <td>MCO</td>\n",
       "      <td>3878</td>\n",
       "      <td>PHX</td>\n",
       "      <td>3462</td>\n",
       "      <td>0</td>\n",
       "      <td>73W 738</td>\n",
       "    </tr>\n",
       "    <tr>\n",
       "      <th>64068</th>\n",
       "      <td>WN</td>\n",
       "      <td>4547</td>\n",
       "      <td>MCO</td>\n",
       "      <td>3878</td>\n",
       "      <td>PIT</td>\n",
       "      <td>3570</td>\n",
       "      <td>0</td>\n",
       "      <td>73W</td>\n",
       "    </tr>\n",
       "    <tr>\n",
       "      <th>64069</th>\n",
       "      <td>WN</td>\n",
       "      <td>4547</td>\n",
       "      <td>MCO</td>\n",
       "      <td>3878</td>\n",
       "      <td>PVD</td>\n",
       "      <td>3641</td>\n",
       "      <td>0</td>\n",
       "      <td>73C 733 73W 73H</td>\n",
       "    </tr>\n",
       "    <tr>\n",
       "      <th>64070</th>\n",
       "      <td>WN</td>\n",
       "      <td>4547</td>\n",
       "      <td>MCO</td>\n",
       "      <td>3878</td>\n",
       "      <td>RDU</td>\n",
       "      <td>3626</td>\n",
       "      <td>0</td>\n",
       "      <td>73W 733 73C</td>\n",
       "    </tr>\n",
       "    <tr>\n",
       "      <th>64071</th>\n",
       "      <td>WN</td>\n",
       "      <td>4547</td>\n",
       "      <td>MCO</td>\n",
       "      <td>3878</td>\n",
       "      <td>RIC</td>\n",
       "      <td>3608</td>\n",
       "      <td>0</td>\n",
       "      <td>733 73W 73C</td>\n",
       "    </tr>\n",
       "    <tr>\n",
       "      <th>64072</th>\n",
       "      <td>WN</td>\n",
       "      <td>4547</td>\n",
       "      <td>MCO</td>\n",
       "      <td>3878</td>\n",
       "      <td>ROC</td>\n",
       "      <td>3622</td>\n",
       "      <td>0</td>\n",
       "      <td>73W</td>\n",
       "    </tr>\n",
       "    <tr>\n",
       "      <th>64073</th>\n",
       "      <td>WN</td>\n",
       "      <td>4547</td>\n",
       "      <td>MCO</td>\n",
       "      <td>3878</td>\n",
       "      <td>SAT</td>\n",
       "      <td>3621</td>\n",
       "      <td>0</td>\n",
       "      <td>73H 73W</td>\n",
       "    </tr>\n",
       "  </tbody>\n",
       "</table>\n",
       "</div>"
      ],
      "text/plain": [
       "      Airline Airline ID Source Airport Source Airport ID Destination Airport  \\\n",
       "64067      WN       4547            MCO              3878                 PHX   \n",
       "64068      WN       4547            MCO              3878                 PIT   \n",
       "64069      WN       4547            MCO              3878                 PVD   \n",
       "64070      WN       4547            MCO              3878                 RDU   \n",
       "64071      WN       4547            MCO              3878                 RIC   \n",
       "64072      WN       4547            MCO              3878                 ROC   \n",
       "64073      WN       4547            MCO              3878                 SAT   \n",
       "\n",
       "      Destination Airport ID  Stops        Equipment  \n",
       "64067                   3462      0          73W 738  \n",
       "64068                   3570      0              73W  \n",
       "64069                   3641      0  73C 733 73W 73H  \n",
       "64070                   3626      0      73W 733 73C  \n",
       "64071                   3608      0      733 73W 73C  \n",
       "64072                   3622      0              73W  \n",
       "64073                   3621      0          73H 73W  "
      ]
     },
     "execution_count": 141,
     "metadata": {},
     "output_type": "execute_result"
    }
   ],
   "source": [
    "routes_df.iloc[64049:64056]"
   ]
  },
  {
   "cell_type": "markdown",
   "id": "aada2c47-6df6-4afc-b6ea-219fadc9256f",
   "metadata": {},
   "source": [
    "As shown, some of the cells in the 'Equipment' column have more than one equipment/aircraft type listed within the cell. We would like to have a separate row for each of the equipment in order for appropriate analysis. Therefore, we need to separate a row which has the cell \"73C 733 73W 73H\" into four different rows so that every type of equipment has its own row. The rows would be: \n",
    "- Row 1 would have the 73C in the 'Equipment' column\n",
    "- Row 2 would have the 733 in the 'Equipment' column\n",
    "- Row 3 would have the 73W in the 'Equipment' column\n",
    "- Row 4 would have the 73H in the 'Equipment' column\n",
    "\n",
    "Therefore, the last step in cleaning the routes_df would be to 'explode' these rows with multiple strings in the 'Equipment' column into different rows for each equipment. "
   ]
  },
  {
   "cell_type": "code",
   "execution_count": 142,
   "id": "1eddec96-9903-4717-8dbc-64c3a80a04cb",
   "metadata": {},
   "outputs": [],
   "source": [
    "routes_df['Equipment'] = routes_df['Equipment'].str.split()\n",
    "routes_df = routes_df.explode('Equipment')"
   ]
  },
  {
   "cell_type": "markdown",
   "id": "70574ec5-eb4b-49fe-8014-0f29b402c7ca",
   "metadata": {},
   "source": [
    "### Cleaning for countries_df"
   ]
  },
  {
   "cell_type": "markdown",
   "id": "e3f72e90-fe99-4ba2-83dd-975858809626",
   "metadata": {},
   "source": [
    "We start by performing a general inspection of the countries_df dataframe."
   ]
  },
  {
   "cell_type": "code",
   "execution_count": 119,
   "id": "1ff082af-8b3f-416e-ae02-17db37602fc7",
   "metadata": {},
   "outputs": [
    {
     "data": {
      "text/html": [
       "<div>\n",
       "<style scoped>\n",
       "    .dataframe tbody tr th:only-of-type {\n",
       "        vertical-align: middle;\n",
       "    }\n",
       "\n",
       "    .dataframe tbody tr th {\n",
       "        vertical-align: top;\n",
       "    }\n",
       "\n",
       "    .dataframe thead th {\n",
       "        text-align: right;\n",
       "    }\n",
       "</style>\n",
       "<table border=\"1\" class=\"dataframe\">\n",
       "  <thead>\n",
       "    <tr style=\"text-align: right;\">\n",
       "      <th></th>\n",
       "      <th>name</th>\n",
       "      <th>iso_code</th>\n",
       "      <th>dafif_code</th>\n",
       "      <th>Unnamed: 3</th>\n",
       "    </tr>\n",
       "  </thead>\n",
       "  <tbody>\n",
       "    <tr>\n",
       "      <th>count</th>\n",
       "      <td>261</td>\n",
       "      <td>261</td>\n",
       "      <td>261</td>\n",
       "      <td>2</td>\n",
       "    </tr>\n",
       "    <tr>\n",
       "      <th>unique</th>\n",
       "      <td>259</td>\n",
       "      <td>241</td>\n",
       "      <td>260</td>\n",
       "      <td>2</td>\n",
       "    </tr>\n",
       "    <tr>\n",
       "      <th>top</th>\n",
       "      <td>India</td>\n",
       "      <td>\\N</td>\n",
       "      <td>BQ</td>\n",
       "      <td></td>\n",
       "    </tr>\n",
       "    <tr>\n",
       "      <th>freq</th>\n",
       "      <td>2</td>\n",
       "      <td>19</td>\n",
       "      <td>2</td>\n",
       "      <td>1</td>\n",
       "    </tr>\n",
       "  </tbody>\n",
       "</table>\n",
       "</div>"
      ],
      "text/plain": [
       "         name iso_code dafif_code Unnamed: 3\n",
       "count     261      261        261          2\n",
       "unique    259      241        260          2\n",
       "top     India       \\N         BQ           \n",
       "freq        2       19          2          1"
      ]
     },
     "metadata": {},
     "output_type": "display_data"
    },
    {
     "name": "stdout",
     "output_type": "stream",
     "text": [
      "<class 'pandas.core.frame.DataFrame'>\n",
      "RangeIndex: 261 entries, 0 to 260\n",
      "Data columns (total 4 columns):\n",
      " #   Column      Non-Null Count  Dtype \n",
      "---  ------      --------------  ----- \n",
      " 0   name        261 non-null    object\n",
      " 1   iso_code    261 non-null    object\n",
      " 2   dafif_code  261 non-null    object\n",
      " 3   Unnamed: 3  2 non-null      object\n",
      "dtypes: object(4)\n",
      "memory usage: 8.3+ KB\n"
     ]
    },
    {
     "data": {
      "text/plain": [
       "None"
      ]
     },
     "metadata": {},
     "output_type": "display_data"
    }
   ],
   "source": [
    "display(countries_df.describe(include='all'))\n",
    "display(countries_df.info())"
   ]
  },
  {
   "cell_type": "markdown",
   "id": "9cefb4d3-c34e-47fe-b3a1-8c13900a39c3",
   "metadata": {},
   "source": [
    "Whilst inspecting the countries_df, we found a few items of interest. First, we find that there are 261 rows in the countries dataframe, but only 259 are unique (as seen in the unique column). Let's inspect further. "
   ]
  },
  {
   "cell_type": "code",
   "execution_count": 120,
   "id": "f40401bb-83e8-4fcc-9521-ed977eaf93aa",
   "metadata": {},
   "outputs": [
    {
     "name": "stdout",
     "output_type": "stream",
     "text": [
      "          name iso_code dafif_code Unnamed: 3\n",
      "33       India       IN         BS        NaN\n",
      "101  Palestine       PS         GZ        NaN\n",
      "112      India       IN         IN        NaN\n",
      "252  Palestine       PS         WE        NaN\n"
     ]
    }
   ],
   "source": [
    "duplicate_countries = countries_df[countries_df.duplicated(subset='name', keep=False)]\n",
    "print(duplicate_countries)"
   ]
  },
  {
   "cell_type": "markdown",
   "id": "4b2dce54-d963-423e-a05f-99df2773b6a5",
   "metadata": {},
   "source": [
    "The reason for the duplicates is because the country 'India' and 'Palestine; has two different dafif_codes. Further research shows that the \"DAFIF code\" is not a standard or widely recognized code for countries. It's possible that \"DAFIF\" refers to a specific system or dataset that uses its own set of codes for countries or locations. DAFIF (Digital Aeronautical Flight Information File) codes are mainly used in the aviation and aeronautical navigation field and the information is not readily available. Seeing that the dafif_code is not as popular, and that the ISO code is more standard, this will guide us to focus on the ISO_codes from now. For the purpose of cleaning and avoiding duplicates, we will get rid of the first of the duplicates for each of the duplicated countries."
   ]
  },
  {
   "cell_type": "markdown",
   "id": "ff688cf7-7c4c-4c3b-b800-8f9d3f836c1a",
   "metadata": {},
   "source": [
    "The reason for the duplicates is because the country 'India' has two different dafif_codes. The correct dafif_code for India is \"IN\". Therefore, we will drop the first of the two rows in india_rows (index = 33). "
   ]
  },
  {
   "cell_type": "code",
   "execution_count": 121,
   "id": "be7dac34-3613-497a-b195-05807f3bf476",
   "metadata": {},
   "outputs": [
    {
     "data": {
      "text/html": [
       "<div>\n",
       "<style scoped>\n",
       "    .dataframe tbody tr th:only-of-type {\n",
       "        vertical-align: middle;\n",
       "    }\n",
       "\n",
       "    .dataframe tbody tr th {\n",
       "        vertical-align: top;\n",
       "    }\n",
       "\n",
       "    .dataframe thead th {\n",
       "        text-align: right;\n",
       "    }\n",
       "</style>\n",
       "<table border=\"1\" class=\"dataframe\">\n",
       "  <thead>\n",
       "    <tr style=\"text-align: right;\">\n",
       "      <th></th>\n",
       "      <th>name</th>\n",
       "      <th>iso_code</th>\n",
       "      <th>dafif_code</th>\n",
       "      <th>Unnamed: 3</th>\n",
       "    </tr>\n",
       "  </thead>\n",
       "  <tbody>\n",
       "    <tr>\n",
       "      <th>0</th>\n",
       "      <td>Bonaire</td>\n",
       "      <td>BQ</td>\n",
       "      <td>BQ</td>\n",
       "      <td></td>\n",
       "    </tr>\n",
       "    <tr>\n",
       "      <th>1</th>\n",
       "      <td>Aruba</td>\n",
       "      <td>AW</td>\n",
       "      <td>AA</td>\n",
       "      <td>NaN</td>\n",
       "    </tr>\n",
       "    <tr>\n",
       "      <th>2</th>\n",
       "      <td>Antigua and Barbuda</td>\n",
       "      <td>AG</td>\n",
       "      <td>AC</td>\n",
       "      <td>NaN</td>\n",
       "    </tr>\n",
       "    <tr>\n",
       "      <th>3</th>\n",
       "      <td>United Arab Emirates</td>\n",
       "      <td>AE</td>\n",
       "      <td>AE</td>\n",
       "      <td>NaN</td>\n",
       "    </tr>\n",
       "    <tr>\n",
       "      <th>4</th>\n",
       "      <td>Afghanistan</td>\n",
       "      <td>AF</td>\n",
       "      <td>AF</td>\n",
       "      <td>NaN</td>\n",
       "    </tr>\n",
       "    <tr>\n",
       "      <th>...</th>\n",
       "      <td>...</td>\n",
       "      <td>...</td>\n",
       "      <td>...</td>\n",
       "      <td>...</td>\n",
       "    </tr>\n",
       "    <tr>\n",
       "      <th>256</th>\n",
       "      <td>Samoa</td>\n",
       "      <td>WS</td>\n",
       "      <td>WS</td>\n",
       "      <td>NaN</td>\n",
       "    </tr>\n",
       "    <tr>\n",
       "      <th>257</th>\n",
       "      <td>Eswatini</td>\n",
       "      <td>SZ</td>\n",
       "      <td>WZ</td>\n",
       "      <td>NaN</td>\n",
       "    </tr>\n",
       "    <tr>\n",
       "      <th>258</th>\n",
       "      <td>Yemen</td>\n",
       "      <td>YE</td>\n",
       "      <td>YM</td>\n",
       "      <td>NaN</td>\n",
       "    </tr>\n",
       "    <tr>\n",
       "      <th>259</th>\n",
       "      <td>Zambia</td>\n",
       "      <td>ZM</td>\n",
       "      <td>ZA</td>\n",
       "      <td>NaN</td>\n",
       "    </tr>\n",
       "    <tr>\n",
       "      <th>260</th>\n",
       "      <td>Zimbabwe</td>\n",
       "      <td>ZW</td>\n",
       "      <td>ZI</td>\n",
       "      <td>NaN</td>\n",
       "    </tr>\n",
       "  </tbody>\n",
       "</table>\n",
       "<p>259 rows × 4 columns</p>\n",
       "</div>"
      ],
      "text/plain": [
       "                     name iso_code dafif_code Unnamed: 3\n",
       "0                 Bonaire       BQ         BQ           \n",
       "1                   Aruba       AW         AA        NaN\n",
       "2     Antigua and Barbuda       AG         AC        NaN\n",
       "3    United Arab Emirates       AE         AE        NaN\n",
       "4             Afghanistan       AF         AF        NaN\n",
       "..                    ...      ...        ...        ...\n",
       "256                 Samoa       WS         WS        NaN\n",
       "257              Eswatini       SZ         WZ        NaN\n",
       "258                 Yemen       YE         YM        NaN\n",
       "259                Zambia       ZM         ZA        NaN\n",
       "260              Zimbabwe       ZW         ZI        NaN\n",
       "\n",
       "[259 rows x 4 columns]"
      ]
     },
     "execution_count": 121,
     "metadata": {},
     "output_type": "execute_result"
    }
   ],
   "source": [
    "countries_df = countries_df.drop_duplicates(subset=['name'], keep='last')"
   ]
  },
  {
   "cell_type": "markdown",
   "id": "350fa18f-c3bf-485f-aa5d-c1df992c9910",
   "metadata": {},
   "source": [
    "We also note that the discrepancy in ISO_codes where, there are 241 unique ISO codes and 259 (now) unique countries. Referring back to the guide from the website that provides the dataset, we find the following \"Some entries have DAFIF codes, but not ISO codes. These are primarily uninhabited islands without airports, and can be ignored for most purposes.\" Given that these locations do not have airports, they become useless for the purpose of our research. Therefore, we will omit all the rows where iso_code == '\\N'."
   ]
  },
  {
   "cell_type": "code",
   "execution_count": 115,
   "id": "eb5c04db-3d97-4cd9-a6eb-5fbd3e335805",
   "metadata": {},
   "outputs": [
    {
     "data": {
      "text/html": [
       "<div>\n",
       "<style scoped>\n",
       "    .dataframe tbody tr th:only-of-type {\n",
       "        vertical-align: middle;\n",
       "    }\n",
       "\n",
       "    .dataframe tbody tr th {\n",
       "        vertical-align: top;\n",
       "    }\n",
       "\n",
       "    .dataframe thead th {\n",
       "        text-align: right;\n",
       "    }\n",
       "</style>\n",
       "<table border=\"1\" class=\"dataframe\">\n",
       "  <thead>\n",
       "    <tr style=\"text-align: right;\">\n",
       "      <th></th>\n",
       "      <th>name</th>\n",
       "      <th>iso_code</th>\n",
       "      <th>dafif_code</th>\n",
       "      <th>Unnamed: 3</th>\n",
       "    </tr>\n",
       "  </thead>\n",
       "  <tbody>\n",
       "    <tr>\n",
       "      <th>0</th>\n",
       "      <td>Bonaire</td>\n",
       "      <td>Saint Eustatius and Saba</td>\n",
       "      <td>BQ</td>\n",
       "      <td></td>\n",
       "    </tr>\n",
       "    <tr>\n",
       "      <th>1</th>\n",
       "      <td>Aruba</td>\n",
       "      <td>AW</td>\n",
       "      <td>AA</td>\n",
       "      <td>NaN</td>\n",
       "    </tr>\n",
       "    <tr>\n",
       "      <th>2</th>\n",
       "      <td>Antigua and Barbuda</td>\n",
       "      <td>AG</td>\n",
       "      <td>AC</td>\n",
       "      <td>NaN</td>\n",
       "    </tr>\n",
       "    <tr>\n",
       "      <th>3</th>\n",
       "      <td>United Arab Emirates</td>\n",
       "      <td>AE</td>\n",
       "      <td>AE</td>\n",
       "      <td>NaN</td>\n",
       "    </tr>\n",
       "    <tr>\n",
       "      <th>4</th>\n",
       "      <td>Afghanistan</td>\n",
       "      <td>AF</td>\n",
       "      <td>AF</td>\n",
       "      <td>NaN</td>\n",
       "    </tr>\n",
       "    <tr>\n",
       "      <th>...</th>\n",
       "      <td>...</td>\n",
       "      <td>...</td>\n",
       "      <td>...</td>\n",
       "      <td>...</td>\n",
       "    </tr>\n",
       "    <tr>\n",
       "      <th>256</th>\n",
       "      <td>Samoa</td>\n",
       "      <td>WS</td>\n",
       "      <td>WS</td>\n",
       "      <td>NaN</td>\n",
       "    </tr>\n",
       "    <tr>\n",
       "      <th>257</th>\n",
       "      <td>Eswatini</td>\n",
       "      <td>SZ</td>\n",
       "      <td>WZ</td>\n",
       "      <td>NaN</td>\n",
       "    </tr>\n",
       "    <tr>\n",
       "      <th>258</th>\n",
       "      <td>Yemen</td>\n",
       "      <td>YE</td>\n",
       "      <td>YM</td>\n",
       "      <td>NaN</td>\n",
       "    </tr>\n",
       "    <tr>\n",
       "      <th>259</th>\n",
       "      <td>Zambia</td>\n",
       "      <td>ZM</td>\n",
       "      <td>ZA</td>\n",
       "      <td>NaN</td>\n",
       "    </tr>\n",
       "    <tr>\n",
       "      <th>260</th>\n",
       "      <td>Zimbabwe</td>\n",
       "      <td>ZW</td>\n",
       "      <td>ZI</td>\n",
       "      <td>NaN</td>\n",
       "    </tr>\n",
       "  </tbody>\n",
       "</table>\n",
       "<p>240 rows × 4 columns</p>\n",
       "</div>"
      ],
      "text/plain": [
       "                     name                   iso_code dafif_code Unnamed: 3\n",
       "0                 Bonaire   Saint Eustatius and Saba         BQ           \n",
       "1                   Aruba                         AW         AA        NaN\n",
       "2     Antigua and Barbuda                         AG         AC        NaN\n",
       "3    United Arab Emirates                         AE         AE        NaN\n",
       "4             Afghanistan                         AF         AF        NaN\n",
       "..                    ...                        ...        ...        ...\n",
       "256                 Samoa                         WS         WS        NaN\n",
       "257              Eswatini                         SZ         WZ        NaN\n",
       "258                 Yemen                         YE         YM        NaN\n",
       "259                Zambia                         ZM         ZA        NaN\n",
       "260              Zimbabwe                         ZW         ZI        NaN\n",
       "\n",
       "[240 rows x 4 columns]"
      ]
     },
     "execution_count": 115,
     "metadata": {},
     "output_type": "execute_result"
    }
   ],
   "source": [
    "countries_df = countries_df[countries_df['iso_code'] != '\\\\N']"
   ]
  },
  {
   "cell_type": "markdown",
   "id": "0c9d00d6-765f-44d9-bad0-8b0b24015fde",
   "metadata": {},
   "source": [
    "Now that we have cleaned up the countries_df, we go back to obsolete nature of the dafif_code column and the \"Unnamed: 3\" column. The final step in making this dataframe analysis-ready is to drop the irrelevant columns. We drop the last two columns of the dataframe. "
   ]
  },
  {
   "cell_type": "markdown",
   "id": "804b6208-42fa-4b63-8eef-1796215c677e",
   "metadata": {},
   "source": [
    "Some entries have DAFIF codes, but not ISO codes. These are primarily uninhabited islands without airports, and can be ignored for most purposes."
   ]
  },
  {
   "cell_type": "code",
   "execution_count": 122,
   "id": "98f71f41-a55f-4e36-ba89-6cc8cb33492f",
   "metadata": {},
   "outputs": [
    {
     "data": {
      "text/html": [
       "<div>\n",
       "<style scoped>\n",
       "    .dataframe tbody tr th:only-of-type {\n",
       "        vertical-align: middle;\n",
       "    }\n",
       "\n",
       "    .dataframe tbody tr th {\n",
       "        vertical-align: top;\n",
       "    }\n",
       "\n",
       "    .dataframe thead th {\n",
       "        text-align: right;\n",
       "    }\n",
       "</style>\n",
       "<table border=\"1\" class=\"dataframe\">\n",
       "  <thead>\n",
       "    <tr style=\"text-align: right;\">\n",
       "      <th></th>\n",
       "      <th>name</th>\n",
       "      <th>iso_code</th>\n",
       "    </tr>\n",
       "  </thead>\n",
       "  <tbody>\n",
       "    <tr>\n",
       "      <th>0</th>\n",
       "      <td>Bonaire</td>\n",
       "      <td>BQ</td>\n",
       "    </tr>\n",
       "    <tr>\n",
       "      <th>1</th>\n",
       "      <td>Aruba</td>\n",
       "      <td>AW</td>\n",
       "    </tr>\n",
       "    <tr>\n",
       "      <th>2</th>\n",
       "      <td>Antigua and Barbuda</td>\n",
       "      <td>AG</td>\n",
       "    </tr>\n",
       "    <tr>\n",
       "      <th>3</th>\n",
       "      <td>United Arab Emirates</td>\n",
       "      <td>AE</td>\n",
       "    </tr>\n",
       "    <tr>\n",
       "      <th>4</th>\n",
       "      <td>Afghanistan</td>\n",
       "      <td>AF</td>\n",
       "    </tr>\n",
       "    <tr>\n",
       "      <th>...</th>\n",
       "      <td>...</td>\n",
       "      <td>...</td>\n",
       "    </tr>\n",
       "    <tr>\n",
       "      <th>256</th>\n",
       "      <td>Samoa</td>\n",
       "      <td>WS</td>\n",
       "    </tr>\n",
       "    <tr>\n",
       "      <th>257</th>\n",
       "      <td>Eswatini</td>\n",
       "      <td>SZ</td>\n",
       "    </tr>\n",
       "    <tr>\n",
       "      <th>258</th>\n",
       "      <td>Yemen</td>\n",
       "      <td>YE</td>\n",
       "    </tr>\n",
       "    <tr>\n",
       "      <th>259</th>\n",
       "      <td>Zambia</td>\n",
       "      <td>ZM</td>\n",
       "    </tr>\n",
       "    <tr>\n",
       "      <th>260</th>\n",
       "      <td>Zimbabwe</td>\n",
       "      <td>ZW</td>\n",
       "    </tr>\n",
       "  </tbody>\n",
       "</table>\n",
       "<p>259 rows × 2 columns</p>\n",
       "</div>"
      ],
      "text/plain": [
       "                     name iso_code\n",
       "0                 Bonaire       BQ\n",
       "1                   Aruba       AW\n",
       "2     Antigua and Barbuda       AG\n",
       "3    United Arab Emirates       AE\n",
       "4             Afghanistan       AF\n",
       "..                    ...      ...\n",
       "256                 Samoa       WS\n",
       "257              Eswatini       SZ\n",
       "258                 Yemen       YE\n",
       "259                Zambia       ZM\n",
       "260              Zimbabwe       ZW\n",
       "\n",
       "[259 rows x 2 columns]"
      ]
     },
     "execution_count": 122,
     "metadata": {},
     "output_type": "execute_result"
    }
   ],
   "source": [
    "countries_df = countries_df.iloc[:, :-2]"
   ]
  },
  {
   "cell_type": "code",
   "execution_count": null,
   "id": "0a389aa3-e5d0-4d09-b270-1b7196781383",
   "metadata": {},
   "outputs": [],
   "source": [
    "# display(planes_df.describe(include='all'))\n",
    "# display(planes_df.info())\n",
    "\n",
    "# display(airports_df.describe(include='all'))\n",
    "# display(airports_df.info())\n",
    "\n",
    "# display(airlines_df.describe(include='all'))\n",
    "# display(airlines_df.info())"
   ]
  },
  {
   "cell_type": "markdown",
   "id": "afb647b3-23c1-4689-94d7-aa0942a1c10f",
   "metadata": {},
   "source": [
    "## Cleaning for planes_df"
   ]
  },
  {
   "cell_type": "markdown",
   "id": "14cbc379-dcb0-4977-9a7d-3f1b30d6ad54",
   "metadata": {},
   "source": [
    "Before delving into the cleaning for the planes_df, we would like to clarify the following:\n",
    "\n",
    "- The original planes_df only had the 'Name', 'IATA Code' and 'ICAO code' columns. Upon a visual inspection of the csv file, we noticed that for some of the fields (mainly the smaller/uncommon planes), the IATA or ICAO code was missing. Whilst the number of missing IATA/ICAO codes missing were not significant enough for us to be worried about the completeness data, we handled the missing information by looking the missing data points and filling them in manually. This would be the most direct and time-efficient solution to employ.\n",
    "- The 'General Make' column was also manually created mainly to accommodate for the Boeings and Airbuses. Acknowledging the huge duopoly that Boeing and Airbus have in terms of airplanes, we are cognizant that a significant number of comparisons and flights being analysed will pertain to aircrafts manufactured by either of the companies. By creating the 'General Make' column, we would like to appropriately account for the many variations of a single model of an aircraft that both companies create.\n",
    "   - For instance, the Boeing 737 comes in several variations: Boeing 737 MAX 10, Boeing 737 MAX 7, Boeing 737 MAX 8, Boeing 737 MAX 9, Boeing 737-200, Boeing 737-300, Boeing 737-400, Boeing 737-500, etc. Whilst the variations provide a significant amount of detail, we recognize that it may help to group them all as \"B737\". Similar can be said for the Airbus340 which comes in 5 different makes therefore, the ICAO of the Airbus340 is \"A340\" which is what will be used to fill in all of the rows that have an Airbus340 make. The goal of the \"General Make\" is to avoid dwelling on the specifics of the model and rather recognize the general model. For other aircraft makes of aircrafts (for instance Lockheed Martin, Aerospatiale, etc), if the makes shared various types of the model, we also labelled them similarly (based on the main model). If an aircraft is the only single make in the model type, we use the details from the \"ICAO code\" column and copy it to the \"General Make\" column.\n",
    "- For some airplane types, especially the really small/uncommon airplanes, we were unable to find the right IATA codes. Therefore, we have left those rows as is. It is very unlikely that airplanes that do not have an IATA code will be utilized as transportation vehicles on many flight routes anyway.\n"
   ]
  },
  {
   "cell_type": "markdown",
   "id": "2fa1df4f-6315-4675-b330-5d57448ef532",
   "metadata": {},
   "source": [
    "With this, let us take a look at the planes_df briefly."
   ]
  },
  {
   "cell_type": "code",
   "execution_count": 5,
   "id": "6db836a5-6e0a-4f11-9c75-5bfcc176533d",
   "metadata": {},
   "outputs": [
    {
     "data": {
      "text/html": [
       "<div>\n",
       "<style scoped>\n",
       "    .dataframe tbody tr th:only-of-type {\n",
       "        vertical-align: middle;\n",
       "    }\n",
       "\n",
       "    .dataframe tbody tr th {\n",
       "        vertical-align: top;\n",
       "    }\n",
       "\n",
       "    .dataframe thead th {\n",
       "        text-align: right;\n",
       "    }\n",
       "</style>\n",
       "<table border=\"1\" class=\"dataframe\">\n",
       "  <thead>\n",
       "    <tr style=\"text-align: right;\">\n",
       "      <th></th>\n",
       "      <th>Name</th>\n",
       "      <th>IATA Code</th>\n",
       "      <th>ICAO Code</th>\n",
       "      <th>General Make</th>\n",
       "    </tr>\n",
       "  </thead>\n",
       "  <tbody>\n",
       "    <tr>\n",
       "      <th>0</th>\n",
       "      <td>Aerospatiale (Nord) 262</td>\n",
       "      <td>ND2</td>\n",
       "      <td>N262</td>\n",
       "      <td>N262</td>\n",
       "    </tr>\n",
       "    <tr>\n",
       "      <th>1</th>\n",
       "      <td>Aerospatiale (Sud Aviation) Se.210 Caravelle</td>\n",
       "      <td>CRV</td>\n",
       "      <td>S210</td>\n",
       "      <td>S210</td>\n",
       "    </tr>\n",
       "    <tr>\n",
       "      <th>2</th>\n",
       "      <td>Aerospatiale SN.601 Corvette</td>\n",
       "      <td>NDC</td>\n",
       "      <td>S601</td>\n",
       "      <td>S601</td>\n",
       "    </tr>\n",
       "    <tr>\n",
       "      <th>3</th>\n",
       "      <td>Aerospatiale/Alenia ATR 42-300</td>\n",
       "      <td>AT4</td>\n",
       "      <td>AT43</td>\n",
       "      <td>AT43</td>\n",
       "    </tr>\n",
       "    <tr>\n",
       "      <th>4</th>\n",
       "      <td>Aerospatiale/Alenia ATR 42-500</td>\n",
       "      <td>AT5</td>\n",
       "      <td>AT45</td>\n",
       "      <td>AT45</td>\n",
       "    </tr>\n",
       "  </tbody>\n",
       "</table>\n",
       "</div>"
      ],
      "text/plain": [
       "                                           Name IATA Code ICAO Code  \\\n",
       "0                       Aerospatiale (Nord) 262       ND2      N262   \n",
       "1  Aerospatiale (Sud Aviation) Se.210 Caravelle       CRV      S210   \n",
       "2                  Aerospatiale SN.601 Corvette       NDC      S601   \n",
       "3                Aerospatiale/Alenia ATR 42-300       AT4      AT43   \n",
       "4                Aerospatiale/Alenia ATR 42-500       AT5      AT45   \n",
       "\n",
       "  General Make  \n",
       "0         N262  \n",
       "1         S210  \n",
       "2         S601  \n",
       "3         AT43  \n",
       "4         AT45  "
      ]
     },
     "execution_count": 5,
     "metadata": {},
     "output_type": "execute_result"
    }
   ],
   "source": [
    "planes_df.head()"
   ]
  },
  {
   "cell_type": "code",
   "execution_count": 6,
   "id": "3ef49a98-f6c7-4ee0-9315-878eff753719",
   "metadata": {},
   "outputs": [
    {
     "data": {
      "text/html": [
       "<div>\n",
       "<style scoped>\n",
       "    .dataframe tbody tr th:only-of-type {\n",
       "        vertical-align: middle;\n",
       "    }\n",
       "\n",
       "    .dataframe tbody tr th {\n",
       "        vertical-align: top;\n",
       "    }\n",
       "\n",
       "    .dataframe thead th {\n",
       "        text-align: right;\n",
       "    }\n",
       "</style>\n",
       "<table border=\"1\" class=\"dataframe\">\n",
       "  <thead>\n",
       "    <tr style=\"text-align: right;\">\n",
       "      <th></th>\n",
       "      <th>Name</th>\n",
       "      <th>IATA Code</th>\n",
       "      <th>ICAO Code</th>\n",
       "      <th>General Make</th>\n",
       "    </tr>\n",
       "  </thead>\n",
       "  <tbody>\n",
       "    <tr>\n",
       "      <th>count</th>\n",
       "      <td>246</td>\n",
       "      <td>246</td>\n",
       "      <td>246</td>\n",
       "      <td>246</td>\n",
       "    </tr>\n",
       "    <tr>\n",
       "      <th>unique</th>\n",
       "      <td>246</td>\n",
       "      <td>223</td>\n",
       "      <td>243</td>\n",
       "      <td>186</td>\n",
       "    </tr>\n",
       "    <tr>\n",
       "      <th>top</th>\n",
       "      <td>Aerospatiale (Nord) 262</td>\n",
       "      <td>\\N</td>\n",
       "      <td>B737</td>\n",
       "      <td>B737</td>\n",
       "    </tr>\n",
       "    <tr>\n",
       "      <th>freq</th>\n",
       "      <td>1</td>\n",
       "      <td>9</td>\n",
       "      <td>3</td>\n",
       "      <td>13</td>\n",
       "    </tr>\n",
       "  </tbody>\n",
       "</table>\n",
       "</div>"
      ],
      "text/plain": [
       "                           Name IATA Code ICAO Code General Make\n",
       "count                       246       246       246          246\n",
       "unique                      246       223       243          186\n",
       "top     Aerospatiale (Nord) 262        \\N      B737         B737\n",
       "freq                          1         9         3           13"
      ]
     },
     "metadata": {},
     "output_type": "display_data"
    },
    {
     "name": "stdout",
     "output_type": "stream",
     "text": [
      "<class 'pandas.core.frame.DataFrame'>\n",
      "RangeIndex: 246 entries, 0 to 245\n",
      "Data columns (total 4 columns):\n",
      " #   Column        Non-Null Count  Dtype \n",
      "---  ------        --------------  ----- \n",
      " 0   Name          246 non-null    object\n",
      " 1   IATA Code     246 non-null    object\n",
      " 2   ICAO Code     246 non-null    object\n",
      " 3   General Make  246 non-null    object\n",
      "dtypes: object(4)\n",
      "memory usage: 7.8+ KB\n"
     ]
    },
    {
     "data": {
      "text/plain": [
       "None"
      ]
     },
     "metadata": {},
     "output_type": "display_data"
    }
   ],
   "source": [
    "display(planes_df.describe(include='all'))\n",
    "display(planes_df.info())"
   ]
  },
  {
   "cell_type": "markdown",
   "id": "e951fb44-e705-4b21-8cdf-fbd5615ef780",
   "metadata": {},
   "source": [
    "From the tables, the item that grabs our attention immediately is the number of unique IATA codes. There are some empty cells for the IATA code of smaller/uncommon aircrafts because they do not have an IATA code. To handle these, we can change the '\\N' cells in the IATA column into cells with null values. "
   ]
  },
  {
   "cell_type": "code",
   "execution_count": 12,
   "id": "8d38e477-44b5-4836-964b-50d7b3b86548",
   "metadata": {
    "scrolled": true
   },
   "outputs": [
    {
     "data": {
      "text/html": [
       "<div>\n",
       "<style scoped>\n",
       "    .dataframe tbody tr th:only-of-type {\n",
       "        vertical-align: middle;\n",
       "    }\n",
       "\n",
       "    .dataframe tbody tr th {\n",
       "        vertical-align: top;\n",
       "    }\n",
       "\n",
       "    .dataframe thead th {\n",
       "        text-align: right;\n",
       "    }\n",
       "</style>\n",
       "<table border=\"1\" class=\"dataframe\">\n",
       "  <thead>\n",
       "    <tr style=\"text-align: right;\">\n",
       "      <th></th>\n",
       "      <th>Name</th>\n",
       "      <th>IATA Code</th>\n",
       "      <th>ICAO Code</th>\n",
       "      <th>General Make</th>\n",
       "      <th>Company</th>\n",
       "    </tr>\n",
       "  </thead>\n",
       "  <tbody>\n",
       "    <tr>\n",
       "      <th>count</th>\n",
       "      <td>246</td>\n",
       "      <td>237</td>\n",
       "      <td>246</td>\n",
       "      <td>246</td>\n",
       "      <td>246</td>\n",
       "    </tr>\n",
       "    <tr>\n",
       "      <th>unique</th>\n",
       "      <td>246</td>\n",
       "      <td>222</td>\n",
       "      <td>243</td>\n",
       "      <td>186</td>\n",
       "      <td>39</td>\n",
       "    </tr>\n",
       "    <tr>\n",
       "      <th>top</th>\n",
       "      <td>Aerospatiale (Nord) 262</td>\n",
       "      <td>CNJ</td>\n",
       "      <td>B737</td>\n",
       "      <td>B737</td>\n",
       "      <td>Boeing</td>\n",
       "    </tr>\n",
       "    <tr>\n",
       "      <th>freq</th>\n",
       "      <td>1</td>\n",
       "      <td>8</td>\n",
       "      <td>3</td>\n",
       "      <td>13</td>\n",
       "      <td>47</td>\n",
       "    </tr>\n",
       "  </tbody>\n",
       "</table>\n",
       "</div>"
      ],
      "text/plain": [
       "                           Name IATA Code ICAO Code General Make Company\n",
       "count                       246       237       246          246     246\n",
       "unique                      246       222       243          186      39\n",
       "top     Aerospatiale (Nord) 262       CNJ      B737         B737  Boeing\n",
       "freq                          1         8         3           13      47"
      ]
     },
     "metadata": {},
     "output_type": "display_data"
    },
    {
     "name": "stdout",
     "output_type": "stream",
     "text": [
      "<class 'pandas.core.frame.DataFrame'>\n",
      "RangeIndex: 246 entries, 0 to 245\n",
      "Data columns (total 5 columns):\n",
      " #   Column        Non-Null Count  Dtype \n",
      "---  ------        --------------  ----- \n",
      " 0   Name          246 non-null    object\n",
      " 1   IATA Code     237 non-null    object\n",
      " 2   ICAO Code     246 non-null    object\n",
      " 3   General Make  246 non-null    object\n",
      " 4   Company       246 non-null    object\n",
      "dtypes: object(5)\n",
      "memory usage: 9.7+ KB\n"
     ]
    },
    {
     "data": {
      "text/plain": [
       "None"
      ]
     },
     "metadata": {},
     "output_type": "display_data"
    }
   ],
   "source": [
    "planes_df['IATA Code'] = planes_df['IATA Code'].replace(r'\\N', np.nan)\n",
    "display(planes_df.describe(include='all'))\n",
    "display(planes_df.info())"
   ]
  },
  {
   "cell_type": "markdown",
   "id": "ac071651-e5ce-49cc-adff-d799b2e5e659",
   "metadata": {},
   "source": [
    "We notice that the names for the airplanes are really long. Whilst this is good because it gives us some detail, we would also like to do a comparison of the Boeings vs Airbus vs other airplanes. For this, we will create a new column that takes the first string of the \"Name\" column which is most often the name of the company. "
   ]
  },
  {
   "cell_type": "code",
   "execution_count": 13,
   "id": "ef0fa1a3-7394-4500-8c3c-f6be9260466f",
   "metadata": {},
   "outputs": [],
   "source": [
    "planes_df['Company'] = planes_df['Name'].str.split().str[0]"
   ]
  },
  {
   "cell_type": "markdown",
   "id": "ddc385ea-6746-4f29-b2b9-90d85f3a9d7b",
   "metadata": {},
   "source": [
    "To make the analysis more analysis-ready, we can add a new column acknowledging that most of the airplanes for routes will be Boeings and Airbuses. We can make a new column called \"airbus_boeing_other\" which allocates all Airbus airplanes from the \"Company\" column as \"Airbus\" and labels all the Boeing aircrafts as \"Boeing\". However, for all of the other aircrafts that are not Boeings and Airbuses, these would be labelled as \"Other\"."
   ]
  },
  {
   "cell_type": "code",
   "execution_count": 20,
   "id": "e3f9ffd3-7807-4c1a-9bc6-9fafb6e681fb",
   "metadata": {},
   "outputs": [
    {
     "data": {
      "text/plain": [
       "airbus_boeing_other\n",
       "Other     172\n",
       "Boeing     47\n",
       "Airbus     27\n",
       "Name: count, dtype: int64"
      ]
     },
     "metadata": {},
     "output_type": "display_data"
    }
   ],
   "source": [
    "planes_df['airbus_boeing_other'] = np.where(planes_df['Company'].isin(['Boeing', 'Airbus']), planes_df['Company'], 'Other')\n",
    "display(planes_df['airbus_boeing_other'].value_counts())"
   ]
  },
  {
   "cell_type": "markdown",
   "id": "d7131c17-74a4-4e4f-8262-cfb38cf50764",
   "metadata": {},
   "source": [
    "planes_df is now analysis ready! "
   ]
  },
  {
   "cell_type": "markdown",
   "id": "e5db8b01-30dd-4cf0-9a29-02f95f25123b",
   "metadata": {},
   "source": [
    "## Cleaning for airports_df"
   ]
  },
  {
   "cell_type": "code",
   "execution_count": null,
   "id": "98f3a743-750d-4ac8-8c3e-40278ebce744",
   "metadata": {},
   "outputs": [],
   "source": [
    "# display(airports_df.describe(include='all'))\n",
    "# display(airports_df.info())\n",
    "\n",
    "# display(airlines_df.describe(include='all'))\n",
    "# display(airlines_df.info())"
   ]
  }
 ],
 "metadata": {
  "kernelspec": {
   "display_name": "Python 3 (ipykernel)",
   "language": "python",
   "name": "python3"
  },
  "language_info": {
   "codemirror_mode": {
    "name": "ipython",
    "version": 3
   },
   "file_extension": ".py",
   "mimetype": "text/x-python",
   "name": "python",
   "nbconvert_exporter": "python",
   "pygments_lexer": "ipython3",
   "version": "3.11.5"
  }
 },
 "nbformat": 4,
 "nbformat_minor": 5
}
