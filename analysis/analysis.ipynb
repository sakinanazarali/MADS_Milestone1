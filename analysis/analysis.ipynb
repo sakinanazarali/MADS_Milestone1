{
 "cells": [
  {
   "cell_type": "markdown",
   "metadata": {},
   "source": [
    "All used libraries are show imported in the following code block."
   ]
  },
  {
   "cell_type": "code",
   "execution_count": null,
   "metadata": {},
   "outputs": [],
   "source": [
    "import scipy.stats as stats\n",
    "import pandas\n",
    "import numpy"
   ]
  },
  {
   "cell_type": "markdown",
   "metadata": {},
   "source": [
    "Below are some useful definitions that will be used later in the creation of the visualizations."
   ]
  },
  {
   "cell_type": "code",
   "execution_count": null,
   "metadata": {},
   "outputs": [],
   "source": [
    "\n",
    "def t_test(group1, group2):\n",
    "    # Perform the t-test\n",
    "    t_statistic, p_value = stats.ttest_ind(group1, group2)\n",
    "\n",
    "    # Print the results\n",
    "    print(\"T-statistic:\", t_statistic)\n",
    "    print(\"P-value:\", p_value)\n",
    "\n",
    "    # Interpret the results\n",
    "    alpha = 0.05  # Significance level\n",
    "    if p_value < alpha:\n",
    "        print(\"Reject the null hypothesis: There is a significant difference between the groups.\")\n",
    "    else:\n",
    "        print(\"Fail to reject the null hypothesis: There is no significant difference between the groups.\")\n",
    "\n",
    "    return(t_statistic, p_value)"
   ]
  }
 ],
 "metadata": {
  "language_info": {
   "name": "python"
  },
  "orig_nbformat": 4
 },
 "nbformat": 4,
 "nbformat_minor": 2
}
