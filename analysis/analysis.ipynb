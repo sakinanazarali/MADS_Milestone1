{
 "cells": [
  {
   "cell_type": "markdown",
   "metadata": {},
   "source": [
    "All used libraries are show imported in the following code block."
   ]
  },
  {
   "cell_type": "code",
   "execution_count": null,
   "metadata": {},
   "outputs": [],
   "source": [
    "import scipy.stats as stats\n",
    "import pandas as pd\n",
    "import numpy as np\n",
    "from sklearn.linear_model import LinearRegression\n",
    "from sklearn.linear_model import LogisticRegression\n",
    "from sklearn.model_selection import train_test_split\n",
    "from sklearn.metrics import classification_report, confusion_matrix"
   ]
  },
  {
   "cell_type": "markdown",
   "metadata": {},
   "source": [
    "Below are some useful definitions that will be used later in the creation of the visualizations."
   ]
  },
  {
   "cell_type": "code",
   "execution_count": null,
   "metadata": {},
   "outputs": [],
   "source": [
    "\n",
    "def t_test(group1, group2):\n",
    "    # Perform the t-test\n",
    "    t_statistic, p_value = stats.ttest_ind(group1, group2)\n",
    "\n",
    "    # Print the results\n",
    "    print(\"T-statistic:\", t_statistic)\n",
    "    print(\"P-value:\", p_value)\n",
    "\n",
    "    # Interpret the results\n",
    "    alpha = 0.05  # Significance level\n",
    "    if p_value < alpha:\n",
    "        print(\"Reject the null hypothesis: There is a significant difference between the groups.\")\n",
    "    else:\n",
    "        print(\"Fail to reject the null hypothesis: There is no significant difference between the groups.\")\n",
    "\n",
    "    return(t_statistic, p_value)\n",
    "\n",
    "\n",
    "\n",
    "def linear_regression(data, features, target):\n",
    "    X = data[features]\n",
    "    y = data[target]\n",
    "\n",
    "    # Create a linear regression model\n",
    "    model = LinearRegression()\n",
    "\n",
    "    # Fit the model to the data\n",
    "    model.fit(X, y)\n",
    "\n",
    "    # Get coefficients, intercept, and R-squared\n",
    "    coefficients = model.coef_\n",
    "    intercept = model.intercept_\n",
    "    r_squared = model.score(X, y)\n",
    "\n",
    "    # Print the results\n",
    "    print(\"Coefficients\", coefficients)\n",
    "    print(\"Intercept\", intercept)\n",
    "    print(\"R-Squared\", r_squared)\n",
    "\n",
    "    return coefficients, intercept, r_squared\n",
    "\n",
    "def logistic_regression(dataset, features, target, test_size=0.2, random_state=42): # Note random state will always be set to 42 in our analysis\n",
    "    # Load and prepare data\n",
    "    X = data[features]\n",
    "    y = data[target]\n",
    "\n",
    "    # Split data into training and testing sets\n",
    "    X_train, X_test, y_train, y_test = train_test_split(X, y, test_size=test_size, random_state=random_state)\n",
    "\n",
    "    # Create a logistic regression model\n",
    "    model = LogisticRegression()\n",
    "\n",
    "    # Fit the model to the training data\n",
    "    model.fit(X_train, y_train)\n",
    "\n",
    "    # Make predictions on the test data\n",
    "    y_pred = model.predict(X_test)\n",
    "\n",
    "    # Evaluate the model\n",
    "    confusion = confusion_matrix(y_test, y_pred)\n",
    "\n",
    "    # Print the results\n",
    "    print(\"Confusion Matrix\", confusion)\n",
    "\n",
    "    return confusion"
   ]
  }
 ],
 "metadata": {
  "language_info": {
   "name": "python"
  },
  "orig_nbformat": 4
 },
 "nbformat": 4,
 "nbformat_minor": 2
}
